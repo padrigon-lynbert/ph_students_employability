{
 "cells": [
  {
   "cell_type": "code",
   "execution_count": 36,
   "metadata": {},
   "outputs": [],
   "source": [
    "# splitting\n",
    "from imblearn.pipeline import Pipeline\n",
    "from imblearn.over_sampling import SMOTE\n",
    "from sklearn.ensemble import RandomForestClassifier\n",
    "from sklearn.model_selection import cross_validate, cross_val_predict\n",
    "from sklearn.preprocessing import StandardScaler\n",
    "from sklearn.metrics import confusion_matrix, classification_report\n",
    "import seaborn as sns\n",
    "import numpy as np\n",
    "\n",
    "from connections import get_dataframe\n"
   ]
  },
  {
   "cell_type": "code",
   "execution_count": 37,
   "metadata": {},
   "outputs": [
    {
     "name": "stdout",
     "output_type": "stream",
     "text": [
      "Cross-validation results: {'fit_time': array([0.29604363, 0.18681693, 0.40578246, 0.2714231 , 0.28276038]), 'score_time': array([0.01743174, 0.02098227, 0.0244956 , 0.02060103, 0.03761983]), 'test_accuracy': array([0.91289782, 0.91289782, 0.90268456, 0.91107383, 0.91442953]), 'test_precision_macro': array([0.90922338, 0.90905686, 0.89863295, 0.90751349, 0.9106972 ]), 'test_recall_macro': array([0.91391659, 0.91501048, 0.90453179, 0.91120231, 0.91631734]), 'test_f1_macro': array([0.91118105, 0.91134541, 0.90089904, 0.90913772, 0.9128992 ])}\n",
      "Mean accuracy: 0.9107967128708421\n",
      "Mean precision: 0.9070247746441696\n",
      "Mean recall: 0.912195701937162\n",
      "Mean F1-score: 0.909092484612976\n"
     ]
    }
   ],
   "source": [
    "df = get_dataframe() # database(mysql): datasets, table: `ph-student_employability-dataset`\n",
    "\n",
    "df['CLASS'] = df['CLASS'].map({'Employable': 1, 'LessEmployable': 2})\n",
    "\n",
    "X = df.drop(['Name of Student', 'CLASS'], axis=1)\n",
    "y = df['CLASS']\n",
    "\n",
    "pipeline = Pipeline([\n",
    "    ('scaler', StandardScaler()),\n",
    "    ('ismot', SMOTE(random_state=42)),\n",
    "    ('classifier', RandomForestClassifier(random_state=42))\n",
    "])\n",
    "\n",
    "cv_results = cross_validate(pipeline, X, y, cv=5, scoring=['accuracy', 'precision_macro', 'recall_macro', 'f1_macro'])\n",
    "\n",
    "print(\"Cross-validation results:\", cv_results)\n",
    "print(\"Mean accuracy:\", cv_results['test_accuracy'].mean())\n",
    "print(\"Mean precision:\", cv_results['test_precision_macro'].mean())\n",
    "print(\"Mean recall:\", cv_results['test_recall_macro'].mean())\n",
    "print(\"Mean F1-score:\", cv_results['test_f1_macro'].mean())"
   ]
  },
  {
   "cell_type": "code",
   "execution_count": 38,
   "metadata": {},
   "outputs": [
    {
     "name": "stdout",
     "output_type": "stream",
     "text": [
      "classification_report:\n",
      "               precision    recall  f1-score   support\n",
      "\n",
      "           1       0.94      0.90      0.92      1729\n",
      "           2       0.87      0.92      0.90      1253\n",
      "\n",
      "    accuracy                           0.91      2982\n",
      "   macro avg       0.91      0.91      0.91      2982\n",
      "weighted avg       0.91      0.91      0.91      2982\n",
      "\n"
     ]
    },
    {
     "data": {
      "text/plain": [
       "<Axes: >"
      ]
     },
     "execution_count": 38,
     "metadata": {},
     "output_type": "execute_result"
    },
    {
     "data": {
      "image/png": "[encoded data removed]",
      "text/plain": [
       "<Figure size 640x480 with 2 Axes>"
      ]
     },
     "metadata": {},
     "output_type": "display_data"
    }
   ],
   "source": [
    "y_pred = cross_val_predict(pipeline, X, y, cv=5)\n",
    "cm = confusion_matrix(y, y_pred)\n",
    "\n",
    "labels = np.unique(y) \n",
    "print('classification_report:\\n', classification_report(y, y_pred))\n",
    "sns.heatmap(cm, annot=True, fmt='d', xticklabels=labels, yticklabels=labels)\n"
   ]
  }
 ],
 "metadata": {
  "kernelspec": {
   "display_name": "base",
   "language": "python",
   "name": "python3"
  },
  "language_info": {
   "codemirror_mode": {
    "name": "ipython",
    "version": 3
   },
   "file_extension": ".py",
   "mimetype": "text/x-python",
   "name": "python",
   "nbconvert_exporter": "python",
   "pygments_lexer": "ipython3",
   "version": "3.11.5"
  }
 },
 "nbformat": 4,
 "nbformat_minor": 2
}
